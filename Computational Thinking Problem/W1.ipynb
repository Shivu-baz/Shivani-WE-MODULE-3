{
  "nbformat": 4,
  "nbformat_minor": 0,
  "metadata": {
    "colab": {
      "provenance": []
    },
    "kernelspec": {
      "name": "python3",
      "display_name": "Python 3"
    },
    "language_info": {
      "name": "python"
    }
  },
  "cells": [
    {
      "cell_type": "code",
      "execution_count": 1,
      "metadata": {
        "colab": {
          "base_uri": "https://localhost:8080/"
        },
        "id": "xZK5wkdHmIQ5",
        "outputId": "f203f25f-ac7a-468b-caef-4c01aea725e2"
      },
      "outputs": [
        {
          "output_type": "stream",
          "name": "stdout",
          "text": [
            "True\n",
            "False\n"
          ]
        }
      ],
      "source": [
        "def lemonadeChange(bills):\n",
        "\n",
        "    five = 0\n",
        "    ten = 0\n",
        "\n",
        "\n",
        "    for bill in bills:\n",
        "        if bill == 5:\n",
        "            five += 1\n",
        "        elif bill == 10:\n",
        "            if five == 0:\n",
        "                return False\n",
        "            five -= 1\n",
        "            ten += 1\n",
        "        else:\n",
        "            if ten > 0 and five > 0:\n",
        "                ten -= 1\n",
        "                five -= 1\n",
        "            elif five >= 3:\n",
        "                five -= 3\n",
        "            else:\n",
        "                return False\n",
        "    return True\n",
        "\n",
        "\n",
        "print(lemonadeChange([5,5,5,10,20]))\n",
        "print(lemonadeChange([5,5,10,10,20]))\n"
      ]
    },
    {
      "cell_type": "markdown",
      "source": [
        "For [10 , 10 ] the output should be false. However, I am getting true."
      ],
      "metadata": {
        "id": "9MvoZjrCqZ50"
      }
    },
    {
      "cell_type": "code",
      "source": [
        "def lemonadeChange(bills):\n",
        "\n",
        "    five = ten = 0\n",
        "    for bill in bills:\n",
        "        if bill == 5: five += 1\n",
        "        elif bill == 10: five, ten = five - 1, ten + 1 if five else ten\n",
        "        else:\n",
        "            if ten and five: ten, five = ten - 1, five - 1\n",
        "            elif five >= 3: five -= 3\n",
        "            else: return False\n",
        "    return True\n",
        "\n",
        "print(lemonadeChange([10,10]))\n"
      ],
      "metadata": {
        "colab": {
          "base_uri": "https://localhost:8080/"
        },
        "id": "V3A-Xm6cmqjU",
        "outputId": "19adbafe-7701-4270-ee7a-7f892d8e1a6b"
      },
      "execution_count": 6,
      "outputs": [
        {
          "output_type": "stream",
          "name": "stdout",
          "text": [
            "True\n"
          ]
        }
      ]
    },
    {
      "cell_type": "code",
      "source": [
        "def lemonadeChange(bills):\n",
        "    five = ten = 0\n",
        "    for bill in bills:\n",
        "        if bill == 5: five += 1\n",
        "        elif bill == 10: five, ten = five - 1, ten + 1 if five else ten\n",
        "        else: ten, five = ten - (five < 1), five - (ten > 0 and five > 0) * 1 if ten else five - 3\n",
        "        if five < 0: return False\n",
        "    return True\n",
        "\n",
        "print(lemonadeChange([10,10]))\n",
        "print(lemonadeChange([5,5,10,10,20]))\n"
      ],
      "metadata": {
        "colab": {
          "base_uri": "https://localhost:8080/"
        },
        "id": "Eu6T4DOEqCYz",
        "outputId": "6c63c04e-ac42-44df-b0e8-9cf595429515"
      },
      "execution_count": 7,
      "outputs": [
        {
          "output_type": "stream",
          "name": "stdout",
          "text": [
            "False\n",
            "True\n"
          ]
        }
      ]
    },
    {
      "cell_type": "code",
      "source": [
        "def lemonadeChange(bills):\n",
        "    fives = tens = 0\n",
        "\n",
        "    for bill in bills:\n",
        "        if bill == 5:\n",
        "            fives += 1\n",
        "        elif bill == 10:\n",
        "            if fives == 0:\n",
        "                return False\n",
        "            fives -= 1\n",
        "            tens += 1\n",
        "        else:\n",
        "            if tens > 0 and fives > 0:\n",
        "                tens -= 1\n",
        "                fives -= 1\n",
        "            elif fives >= 3:\n",
        "                fives -= 3\n",
        "            else:\n",
        "                return False\n",
        "\n",
        "    return True\n",
        "\n",
        "print(lemonadeChange([10,10]))\n",
        "print(lemonadeChange([5,5,10,10,20]))\n"
      ],
      "metadata": {
        "colab": {
          "base_uri": "https://localhost:8080/"
        },
        "id": "YMsalPHqrlQb",
        "outputId": "b4da8bbd-f9f3-46c4-d2f6-c47e80db8bef"
      },
      "execution_count": 9,
      "outputs": [
        {
          "output_type": "stream",
          "name": "stdout",
          "text": [
            "False\n",
            "False\n"
          ]
        }
      ]
    },
    {
      "cell_type": "code",
      "source": [
        "def lemonadeChange(bills):\n",
        "    stack = []\n",
        "\n",
        "    for bill in bills:\n",
        "        if bill == 5:\n",
        "            stack.append(5)\n",
        "        elif bill == 10:\n",
        "            if 5 not in stack:\n",
        "                return False\n",
        "            stack.remove(5)\n",
        "            stack.append(10)\n",
        "        else:\n",
        "            if 10 in stack and 5 in stack:\n",
        "                stack.remove(10)\n",
        "                stack.remove(5)\n",
        "            elif stack.count(5) >= 3:\n",
        "                stack.remove(5)\n",
        "                stack.remove(5)\n",
        "                stack.remove(5)\n",
        "            else:\n",
        "                return False\n",
        "\n",
        "    return True\n",
        "\n",
        "print(lemonadeChange([5,5,5,10,20]))\n",
        "print(lemonadeChange([5,5,10,10,20]))\n",
        "print(lemonadeChange([5,5,5,5,20,20,5,5,20,5]))\n"
      ],
      "metadata": {
        "colab": {
          "base_uri": "https://localhost:8080/"
        },
        "id": "cns-TSgBtK3f",
        "outputId": "b996ce71-ac58-4e26-dd6d-be783e671c15"
      },
      "execution_count": 10,
      "outputs": [
        {
          "output_type": "stream",
          "name": "stdout",
          "text": [
            "True\n",
            "False\n",
            "False\n"
          ]
        }
      ]
    },
    {
      "cell_type": "code",
      "source": [
        "def lemonadeChange(bills):\n",
        "    five_count = bills.count(5)\n",
        "    ten_count = bills.count(10)\n",
        "    twenty_count = bills.count(20)\n",
        "\n",
        "    while ten_count > 0:\n",
        "        if 5 in bills:\n",
        "            bills.remove(5)\n",
        "            five_count -= 1\n",
        "            ten_count -= 1\n",
        "        else:\n",
        "            return False\n",
        "\n",
        "    while twenty_count > 0:\n",
        "        if 10 in bills and 5 in bills:\n",
        "            bills.remove(10)\n",
        "            bills.remove(5)\n",
        "            ten_count -= 1\n",
        "            twenty_count -= 1\n",
        "        elif bills.count(5) >= 3:\n",
        "            bills.remove(5)\n",
        "            bills.remove(5)\n",
        "            bills.remove(5)\n",
        "            five_count -= 3\n",
        "            twenty_count -= 1\n",
        "        else:\n",
        "            return False\n",
        "\n",
        "    return True\n",
        "\n",
        "print(lemonadeChange([5,5,5,10,20]))\n",
        "print(lemonadeChange([5,5,10,10,20]))\n",
        "print(lemonadeChange([5,5,5,5,20,20,5,5,20,5]))\n"
      ],
      "metadata": {
        "colab": {
          "base_uri": "https://localhost:8080/"
        },
        "id": "BCEOiXz1te0m",
        "outputId": "c8407d0a-b5a9-41d3-bd13-ab7493fb975a"
      },
      "execution_count": 11,
      "outputs": [
        {
          "output_type": "stream",
          "name": "stdout",
          "text": [
            "True\n",
            "False\n",
            "False\n"
          ]
        }
      ]
    },
    {
      "cell_type": "markdown",
      "source": [
        "Wrong output given for the first test case"
      ],
      "metadata": {
        "id": "pGnDl_gmuT46"
      }
    },
    {
      "cell_type": "code",
      "source": [
        "def lemonadeChange(bills):\n",
        "    while len(bills) > 0:\n",
        "        if 5 in bills:\n",
        "            bills.remove(5)\n",
        "            if 10 in bills:\n",
        "                bills.remove(10)\n",
        "            elif 20 in bills:\n",
        "                bills.remove(20)\n",
        "                if 10 in bills:\n",
        "                    bills.remove(10)\n",
        "                elif 5 in bills:\n",
        "                    bills.remove(5)\n",
        "                    if 5 in bills:\n",
        "                        bills.remove(5)\n",
        "                    else:\n",
        "                        return False\n",
        "                else:\n",
        "                    return False\n",
        "            else:\n",
        "                return False\n",
        "        else:\n",
        "            return False\n",
        "    return True\n",
        "\n",
        "print(lemonadeChange([5,5,5,10,20]))  # Output: True\n",
        "print(lemonadeChange([5,5,10,10,20])) # Output: False\n",
        "print(lemonadeChange([5,5,5,5,20,20,5,5,20,5])) # Output: False\n"
      ],
      "metadata": {
        "colab": {
          "base_uri": "https://localhost:8080/"
        },
        "id": "-UjpIQ5Mt2Cx",
        "outputId": "ebd8ef8f-7013-4a13-857b-167f9ddd8069"
      },
      "execution_count": 12,
      "outputs": [
        {
          "output_type": "stream",
          "name": "stdout",
          "text": [
            "False\n",
            "False\n",
            "False\n"
          ]
        }
      ]
    },
    {
      "cell_type": "markdown",
      "source": [
        "Wrong output for all second and third case"
      ],
      "metadata": {
        "id": "0CiWar3Yu0Uw"
      }
    },
    {
      "cell_type": "code",
      "source": [
        "def lemonadeChange(bills):\n",
        "    five_count = 0\n",
        "    ten_count = 0\n",
        "    twenty_count = 0\n",
        "\n",
        "    for bill in bills:\n",
        "        if bill == 5:\n",
        "            five_count += 1\n",
        "        elif bill == 10:\n",
        "            ten_count += 1\n",
        "        else:\n",
        "            twenty_count += 1\n",
        "\n",
        "    while ten_count > 0:\n",
        "        for i in range(len(bills)):\n",
        "            if bills[i] == 10:\n",
        "                bills.pop(i)\n",
        "                ten_count -= 1\n",
        "                break\n",
        "\n",
        "    while twenty_count > 0:\n",
        "        found_ten = False\n",
        "        for i in range(len(bills)):\n",
        "            if bills[i] == 10:\n",
        "                bills.pop(i)\n",
        "                ten_count -= 1\n",
        "                found_ten = True\n",
        "                break\n",
        "        if not found_ten:\n",
        "            for i in range(len(bills)):\n",
        "                if bills[i] == 5:\n",
        "                    bills.pop(i)\n",
        "                    five_count -= 1\n",
        "                    break\n",
        "            for i in range(len(bills)):\n",
        "                if bills[i] == 5:\n",
        "                    bills.pop(i)\n",
        "                    five_count -= 1\n",
        "                    break\n",
        "            for i in range(len(bills)):\n",
        "                if bills[i] == 5:\n",
        "                    bills.pop(i)\n",
        "                    five_count -= 1\n",
        "                    break\n",
        "        twenty_count -= 1\n",
        "\n",
        "    if five_count < 0 or ten_count < 0:\n",
        "        return False\n",
        "\n",
        "    return True\n",
        "\n",
        "print(lemonadeChange([5,5,5,10,20]))  # Output: True\n",
        "print(lemonadeChange([5,5,10,10,20])) # Output: False\n",
        "print(lemonadeChange([5,5,5,5,20,20,5,5,20,5])) # Output: False\n"
      ],
      "metadata": {
        "colab": {
          "base_uri": "https://localhost:8080/"
        },
        "id": "3lfnZbLauvqZ",
        "outputId": "913c34d7-29ca-4e7e-9282-4caaa7a5877d"
      },
      "execution_count": 13,
      "outputs": [
        {
          "output_type": "stream",
          "name": "stdout",
          "text": [
            "True\n",
            "True\n",
            "True\n"
          ]
        }
      ]
    }
  ]
}