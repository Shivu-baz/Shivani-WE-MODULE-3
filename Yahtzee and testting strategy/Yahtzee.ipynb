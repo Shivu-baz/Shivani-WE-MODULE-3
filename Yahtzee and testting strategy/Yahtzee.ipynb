{
  "nbformat": 4,
  "nbformat_minor": 0,
  "metadata": {
    "colab": {
      "provenance": []
    },
    "kernelspec": {
      "name": "python3",
      "display_name": "Python 3"
    },
    "language_info": {
      "name": "python"
    }
  },
  "cells": [
    {
      "cell_type": "code",
      "execution_count": 11,
      "metadata": {
        "id": "BV-URae08DVu"
      },
      "outputs": [],
      "source": [
        "import random\n",
        "\n",
        "def roll_dice(num_dice):\n",
        "    return [random.randint(1, 6) for _ in range(num_dice)]\n",
        "\n",
        "def is_consecutive(lst):\n",
        "    return sorted(lst) in [[1, 2, 3, 4, 5], [2, 3, 4, 5, 6]]"
      ]
    },
    {
      "cell_type": "code",
      "source": [
        "def choose_category(dice, scorecard):\n",
        "\n",
        "    for number in range(1, 7):\n",
        "        category = str(number) + \"s\"\n",
        "        if scorecard[category] is None and number in dice:\n",
        "            return category\n",
        "\n",
        "    if len(set(dice)) <= 3:\n",
        "        return \"Three of a Kind\"\n",
        "    if len(set(dice)) <= 2:\n",
        "        return \"Four of a Kind\"\n",
        "    if len(set(dice)) == 2 and (dice.count(dice[0]) == 2 or dice.count(dice[0]) == 3):\n",
        "        return \"Full House\"\n",
        "    if len(set(dice)) == 1:\n",
        "        return \"Yahtzee\"\n",
        "\n",
        "    if is_consecutive(sorted(dice)[:4]):\n",
        "        return \"Small Straight\"\n",
        "\n",
        "    if is_consecutive(dice):\n",
        "        return \"Large Straight\"\n",
        "\n",
        "    return \"Chance\""
      ],
      "metadata": {
        "id": "NASHGN3WCcRG"
      },
      "execution_count": 12,
      "outputs": []
    },
    {
      "cell_type": "code",
      "source": [
        "def score_and_validate_category(category, dice, scorecard):\n",
        "    if category in scorecard:\n",
        "        return False, \"Category already scored!\", 0\n",
        "\n",
        "    if category in [\"Ones\", \"Twos\", \"Threes\", \"Fours\", \"Fives\", \"Sixes\"]:\n",
        "        score = sum(d for d in dice if d == int(category[0]))\n",
        "        return True, \"\", score\n",
        "\n",
        "    if category in [\"Three of a Kind\", \"Four of a Kind\", \"Chance\"]:\n",
        "        score = sum(dice)\n",
        "        return True, \"\", score\n",
        "\n",
        "    if category == \"Full House\":\n",
        "        if len(set(dice)) == 2 and (dice.count(dice[0]) == 2 or dice.count(dice[0]) == 3):\n",
        "            score = 25\n",
        "            return True, \"\", score\n",
        "        else:\n",
        "            return False, \"Requires three of one number and two of another!\", 0\n",
        "\n",
        "    if category == \"Small Straight\":\n",
        "        if is_consecutive(sorted(dice)[:4]):\n",
        "            score = 30\n",
        "            return True, \"\", score\n",
        "        else:\n",
        "            return False, \"Requires a sequence of four numbers!\", 0\n",
        "\n",
        "    if category == \"Large Straight\":\n",
        "        if is_consecutive(dice):\n",
        "            score = 40\n",
        "            return True, \"\", score\n",
        "        else:\n",
        "            return False, \"Requires a sequence of five numbers!\", 0\n",
        "\n",
        "    if category == \"Yahtzee\":\n",
        "        if len(set(dice)) == 1:\n",
        "            score = 50\n",
        "            return True, \"\", score\n",
        "        else:\n",
        "            return False, \"Requires all dice to have the same number!\", 0\n",
        "\n",
        "\n",
        "    return False, \"Invalid category!\", 0\n"
      ],
      "metadata": {
        "id": "2P-zXz0zCkw1"
      },
      "execution_count": 16,
      "outputs": []
    },
    {
      "cell_type": "code",
      "source": [
        "def play_yahtzee():\n",
        "    scorecard = {category: None for category in [\n",
        "        \"Ones\", \"Twos\", \"Threes\", \"Fours\", \"Fives\", \"Sixes\",\n",
        "        \"Three of a Kind\", \"Four of a Kind\", \"Full House\",\n",
        "        \"Small Straight\", \"Large Straight\", \"Yahtzee\", \"Chance\"\n",
        "    ]}\n",
        "    rolls_left = 3\n",
        "\n",
        "    while True:\n",
        "        print(f\"\\nRolls left: {rolls_left}\")\n",
        "        input(\"Press Enter to roll the dice...\")\n",
        "        dice = roll_dice(5)\n",
        "        print(\"You rolled:\", dice)\n",
        "\n",
        "        for _ in range(2):\n",
        "            reroll = input(\"Enter the indexes of dice to reroll (e.g., '1 3 4'), or press Enter to keep the dice: \")\n",
        "            if reroll:\n",
        "                indexes_to_reroll = list(map(int, reroll.split()))\n",
        "                for index in indexes_to_reroll:\n",
        "                    if index < 1 or index > 5:\n",
        "                        print(\"Invalid input! Enter indexes between 1 and 5.\")\n",
        "                        continue\n",
        "                    dice[index - 1] = random.randint(1, 6)\n",
        "                print(\"Dice after reroll:\", dice)\n",
        "            else:\n",
        "                break\n"
      ],
      "metadata": {
        "id": "xljldKAyCq00"
      },
      "execution_count": 17,
      "outputs": []
    }
  ]
}